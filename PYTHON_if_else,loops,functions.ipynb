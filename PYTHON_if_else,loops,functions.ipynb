{
  "nbformat": 4,
  "nbformat_minor": 0,
  "metadata": {
    "colab": {
      "provenance": [],
      "authorship_tag": "ABX9TyOZyw/Lh2OkO3pxSZad4m4M",
      "include_colab_link": true
    },
    "kernelspec": {
      "name": "python3",
      "display_name": "Python 3"
    },
    "language_info": {
      "name": "python"
    }
  },
  "cells": [
    {
      "cell_type": "markdown",
      "metadata": {
        "id": "view-in-github",
        "colab_type": "text"
      },
      "source": [
        "<a href=\"https://colab.research.google.com/github/GloriaCodes-datanalyst/GloriaCodes-datanalyst/blob/main/PYTHON_if_else%2Cloops%2Cfunctions.ipynb\" target=\"_parent\"><img src=\"https://colab.research.google.com/assets/colab-badge.svg\" alt=\"Open In Colab\"/></a>"
      ]
    },
    {
      "cell_type": "code",
      "execution_count": 1,
      "metadata": {
        "colab": {
          "base_uri": "https://localhost:8080/"
        },
        "id": "2ARlQvc_O7DH",
        "outputId": "61cb070b-8ec3-47bf-b41b-e081c1d13ff5"
      },
      "outputs": [
        {
          "output_type": "stream",
          "name": "stdout",
          "text": [
            "5\n",
            "7\n",
            "9\n"
          ]
        }
      ],
      "source": [
        "numbers = [1, 3, 5, 7, 9]\n",
        "for num in numbers:\n",
        "  if num > 4:\n",
        "    print(num)"
      ]
    },
    {
      "cell_type": "code",
      "source": [
        "text = \"Python\"\n",
        "count = 0\n",
        "for char in text:\n",
        "  if char in \"aeiou\":\n",
        "    count += 1\n",
        "    print(count)"
      ],
      "metadata": {
        "colab": {
          "base_uri": "https://localhost:8080/"
        },
        "id": "rPqDVQ87PcXN",
        "outputId": "5ee7cd4e-b36d-4414-b548-f8f8c1c0c935"
      },
      "execution_count": 2,
      "outputs": [
        {
          "output_type": "stream",
          "name": "stdout",
          "text": [
            "1\n"
          ]
        }
      ]
    },
    {
      "cell_type": "code",
      "source": [
        "x = 10\n",
        "while x > 0:\n",
        "  x = x - 2\n",
        "  print(x)"
      ],
      "metadata": {
        "colab": {
          "base_uri": "https://localhost:8080/"
        },
        "id": "AaAZxtK2QFUu",
        "outputId": "b31bfc32-83f1-4a2c-858c-54b2e0509d7a"
      },
      "execution_count": 4,
      "outputs": [
        {
          "output_type": "stream",
          "name": "stdout",
          "text": [
            "8\n",
            "6\n",
            "4\n",
            "2\n",
            "0\n"
          ]
        }
      ]
    },
    {
      "cell_type": "code",
      "source": [
        "def double_number(x):\n",
        "   return x * 2\n",
        "result = double_number(5)\n",
        "print (result+3)"
      ],
      "metadata": {
        "colab": {
          "base_uri": "https://localhost:8080/"
        },
        "id": "cy6cjiHTQ8st",
        "outputId": "a9c607a0-bf4a-4565-a702-b87e01cf7dd5"
      },
      "execution_count": 9,
      "outputs": [
        {
          "output_type": "stream",
          "name": "stdout",
          "text": [
            "13\n"
          ]
        }
      ]
    },
    {
      "cell_type": "code",
      "source": [
        "def double_number(x):\n",
        "    return x * 2\n",
        "\n",
        "result = double_number(5)\n",
        "print(result + 3)"
      ],
      "metadata": {
        "colab": {
          "base_uri": "https://localhost:8080/"
        },
        "id": "BOaFFmBzR2sk",
        "outputId": "719fc16b-12fd-4516-939e-b2d144e1f8b1"
      },
      "execution_count": 8,
      "outputs": [
        {
          "output_type": "stream",
          "name": "stdout",
          "text": [
            "13\n"
          ]
        }
      ]
    },
    {
      "cell_type": "code",
      "source": [
        "def add_numbers(a, b):\n",
        "    sum = a + b\n",
        "    return sum\n",
        "\n",
        "print(add_numbers(3, 4))\n"
      ],
      "metadata": {
        "colab": {
          "base_uri": "https://localhost:8080/"
        },
        "id": "7seAW0_dSpJE",
        "outputId": "9f4e9f42-bd9b-4085-fe10-4bc98bbf48ad"
      },
      "execution_count": 10,
      "outputs": [
        {
          "output_type": "stream",
          "name": "stdout",
          "text": [
            "7\n"
          ]
        }
      ]
    },
    {
      "cell_type": "code",
      "source": [
        "def make_sandwich():\n",
        "    print(\"1. Getting bread\")\n",
        "    print(\"2. Adding cheese\")\n",
        "    print(\"3. Adding tomato\")\n",
        "\n",
        "print(\"Starting lunch prep\")\n",
        "make_sandwich()\n",
        "print(\"Sandwich is ready!\")\n"
      ],
      "metadata": {
        "colab": {
          "base_uri": "https://localhost:8080/"
        },
        "id": "ffb7E-eRUE-5",
        "outputId": "119de9d0-9baa-4472-b2c8-689a703850a7"
      },
      "execution_count": 11,
      "outputs": [
        {
          "output_type": "stream",
          "name": "stdout",
          "text": [
            "Starting lunch prep\n",
            "1. Getting bread\n",
            "2. Adding cheese\n",
            "3. Adding tomato\n",
            "Sandwich is ready!\n"
          ]
        }
      ]
    },
    {
      "cell_type": "code",
      "source": [
        "print(\"Starting lunch prep\")"
      ],
      "metadata": {
        "colab": {
          "base_uri": "https://localhost:8080/"
        },
        "id": "9kk1-w_iUbpW",
        "outputId": "cc18f7c2-5cb2-4830-fef4-01efcaf14e9f"
      },
      "execution_count": 14,
      "outputs": [
        {
          "output_type": "stream",
          "name": "stdout",
          "text": [
            "Starting lunch prep\n"
          ]
        }
      ]
    },
    {
      "cell_type": "code",
      "source": [
        "make_sandwich()"
      ],
      "metadata": {
        "colab": {
          "base_uri": "https://localhost:8080/"
        },
        "id": "YTLPgKdXUpH7",
        "outputId": "cec3b730-8b75-4bfd-9003-6dd461f4c455"
      },
      "execution_count": 16,
      "outputs": [
        {
          "output_type": "stream",
          "name": "stdout",
          "text": [
            "1. Getting bread\n",
            "2. Adding cheese\n",
            "3. Adding tomato\n"
          ]
        }
      ]
    },
    {
      "cell_type": "code",
      "source": [
        "print(\"Sandwich is ready!\")"
      ],
      "metadata": {
        "colab": {
          "base_uri": "https://localhost:8080/"
        },
        "id": "Pfas4wJBUyQE",
        "outputId": "bd997eb7-0b5d-479b-fad1-b5dd9fa50323"
      },
      "execution_count": 17,
      "outputs": [
        {
          "output_type": "stream",
          "name": "stdout",
          "text": [
            "Sandwich is ready!\n"
          ]
        }
      ]
    }
  ]
}